{
 "cells": [
  {
   "cell_type": "code",
   "execution_count": 243,
   "metadata": {
    "collapsed": true,
    "deletable": true,
    "editable": true
   },
   "outputs": [],
   "source": [
    "import glob\n",
    "import pandas as pd\n",
    "import re\n",
    "import os"
   ]
  },
  {
   "cell_type": "code",
   "execution_count": 287,
   "metadata": {
    "collapsed": true
   },
   "outputs": [],
   "source": [
    "chars = ['순재', '문희', '해미', '준하', '민용', '신지', '민정', '교감', '윤호', '민호']\n",
    "\n",
    "def isTalk(a_string):\n",
    "    p1 = len(re.findall(r'^\\w+\\t', a_string))\n",
    "    p2 = len(re.findall(r'^\\w+\\s+[()]', a_string))\n",
    "    p3 = len(re.findall(r'^\\t\\n', a_string))\n",
    "    first_word = a_string.split(\" \")[0]\n",
    "    p4 = int(first_word in chars)\n",
    "    res = p1 + p2 + p4\n",
    "    if res > 0:\n",
    "        return True\n",
    "    else:\n",
    "        return False"
   ]
  },
  {
   "cell_type": "code",
   "execution_count": 288,
   "metadata": {
    "collapsed": true
   },
   "outputs": [],
   "source": [
    "def extract_person(a_string):\n",
    "    if len(re.findall(r'^\\w+\\t', a_string)) > 0:\n",
    "        person = a_string.split(\"\\t\")[0]\n",
    "        script = \" \".join(a_string.split(\"\\t\")[1:])\n",
    "    elif len(re.findall(r'^\\w+\\s+[()]', a_string)) > 0:\n",
    "        person = a_string.split(\" \")[0]\n",
    "        script = \" \".join(a_string.split(\" \")[1:])\n",
    "    else:\n",
    "        person = \"delete\"\n",
    "        script = a_string\n",
    "    return person, script"
   ]
  },
  {
   "cell_type": "code",
   "execution_count": 289,
   "metadata": {
    "collapsed": false
   },
   "outputs": [],
   "source": [
    "def preprocess_script(file_path):\n",
    "    with open(file_path, \"r\", encoding=\"cp949\") as f:\n",
    "        data = f.readlines()\n",
    "    df = pd.DataFrame(data)\n",
    "    df.columns = ['script']\n",
    "    df = df[df.script != \"\\n\"]\n",
    "    \n",
    "    df['isTalk'] = df.script.map(isTalk)\n",
    "    df['first_char'] = df.script.map(lambda x: x[0])\n",
    "    df = df[df.first_char != \"씬\"].reset_index(drop=True)\n",
    "    \n",
    "    df['counter'] = 0\n",
    "    counter = 0\n",
    "    for i in range(0, len(df)):\n",
    "        current_is_talk = df.ix[i]['isTalk']\n",
    "        if (current_is_talk == True):\n",
    "            counter = counter + 1\n",
    "        df.set_value(i, 'counter', counter)\n",
    "        \n",
    "    df2 = pd.DataFrame(df.groupby('counter').script.apply(lambda x: \"\".join(list(x))))\n",
    "    \n",
    "    df2.reset_index(drop=True, inplace=True)\n",
    "    \n",
    "    df2['person'], df2['script_re'] = zip(*df2.script.map(extract_person))\n",
    "    df2['script_re2'] = df2.script_re.map(lambda x: x.replace(\"\\n\\t\", \" \").replace(\"\\n\", \"\").replace(\"\\t\", \"\"))\n",
    "    \n",
    "    df3 = df2[df2.person != \"delete\"][['person', 'script_re2']]\n",
    "    df3['person'] = df3['person'].map(lambda x: x.strip())\n",
    "    df3['script_re2'] = df3['script_re2'].map(lambda x: re.sub('^\\s+', \"\", x))\n",
    "    df3['final_script'] = df3.apply(lambda row: row.person + \": \" + row.script_re2, axis=1)\n",
    "    return df3.final_script.tolist()"
   ]
  },
  {
   "cell_type": "code",
   "execution_count": 290,
   "metadata": {
    "collapsed": false
   },
   "outputs": [],
   "source": [
    "files = glob.glob(\"./data/*.txt\")"
   ]
  },
  {
   "cell_type": "code",
   "execution_count": 298,
   "metadata": {
    "collapsed": false
   },
   "outputs": [],
   "source": [
    "temp = [preprocess_script(os.path.join(file)) for file in files]"
   ]
  },
  {
   "cell_type": "code",
   "execution_count": 299,
   "metadata": {
    "collapsed": false
   },
   "outputs": [],
   "source": [
    "script_list = [sentence for sublist in temp for sentence in sublist]"
   ]
  },
  {
   "cell_type": "code",
   "execution_count": 297,
   "metadata": {
    "collapsed": false
   },
   "outputs": [
    {
     "data": {
      "text/plain": [
       "['개성댁: 어머! (벌떡 일어나며) 어유 안녕하세요.',\n",
       " '순재: 아 네.',\n",
       " '개성댁: 나 갈께~ 안녕히 계세요. (후다닥 나가는)',\n",
       " '문희: 가. 당신 이 시간에 왠일이유?',\n",
       " '순재: (서류 집으며) 안돼 이쪽에 걸어 (나가다) 머리는 뭘그런걸 쓰고 있어? (벗겨보는)',\n",
       " '문희: 어~ (벗겨지면 파마용 롤이 붙어있다) 개성댁이랑 미장원에서 머리 말다 잠깐 온거야.',\n",
       " '순재: 파마를 왜? 설마 뽀글뽀글한 뽀글파마 그거 하는거야?',\n",
       " '문희: 예.',\n",
       " '순재: (화내는) 아 내가 싫어하는 거 알면서 왜 뽀글파마를해?',\n",
       " '문희: 그게 젤 편해. 한번 하면 만사 편한걸.',\n",
       " '순재: 그래도 내가 싫어하는데 왜 해! 나랑 상의도 없이! 아니 오늘따라 아들놈이나 할망구나 왜 이렇게 상의도 없이 맘대로 헛짓꺼리들이야?',\n",
       " '문희: 다시 풀어달라 그래요? 풀어도 돈은 다 내야 돼..',\n",
       " '순재: 아우 씨! (화가 나서 나가는)  수업 마친 학생들 삼삼오오 걸어오고 윤호 걸어오는데 핸드폰 울리는',\n",
       " '윤호: 예 찬성과 승현, 옥상에 있다. 승현은 폼 잡으며 각 세우고 서 있고 찬성이 전화하는',\n",
       " '찬성: 야 이윤호 나 황찬성이다.',\n",
       " '윤호: 그래서?찬성          승현이가 우리 전학온 기념으로 함 뜨자고 기다리고있는데 왜 코빼기를 안보여? 겁나나보지?',\n",
       " '윤호: (픽 웃으며) 그래 겁난다 아우 무서워~',\n",
       " '찬성: 야 우리 지금 옥상에 있거든? 쉬끼 10초안에 튀어 와라.',\n",
       " '윤호: (꺼버리고 가는)',\n",
       " '찬성: 여보세요? 야 이윤호! 이 쉬끼가 진짜! (핸드폰 끊으며) 끊어버리는데?',\n",
       " '승현: (눈썹 찌푸리며) 뭐?!! (하고) 그럼 모시러 가야지. (가는) 승현과 찬성이 거칠게 들어온다. 청소하던 아이들 겁에 질려 비켜서고 승현 1학년 4반문 거칠게 열어젖힌다. 승현과 찬성이 들어온다.',\n",
       " '찬성: (문 확 열고) 이윤호! 텅 빈 교실에 민호 혼자 앉아 공부하고 있다.',\n",
       " '찬성: 뭐야 다 갔네? (민호 보고) 야 이윤호 어딨어?',\n",
       " '민호: (거만하게) 몰라.',\n",
       " '찬성: 그 쉐끼 언제 나갔어?',\n",
       " '민호: (거만) 몰라. 나 공부하는데 좀 나가줄래?',\n",
       " '찬성: (민호 목을 잡고 칠 듯) 이 자식이 엊다대고~ 나가줄래?',\n",
       " '민호: (쫄아서) 아니 여기 없으니까 나가서 찾아보라고..내가 나갈께 그럼..(일어나서 나가는)',\n",
       " '승현: (멱살 잡으며) 죽고 싶냐?',\n",
       " '민호: (품위를 지키며 고개 젓는) 죽고 싶은 사람이 어딨어..?',\n",
       " '찬성: 아 잠깐! 이 자식 이윤호 형 아냐?',\n",
       " '민호: (표정)',\n",
       " '찬성: 맞아 이 자식 (명찰읽으며) 이민호! 접때 들었어~ 같은반에 형 있다고~ 이 자식 형 맞아!',\n",
       " '민호: (표정. 나직히 부정하는) 설마..',\n",
       " '승현: (슥 보며) 그래? 근데 형제가 어떻게 같은 학년이지?',\n",
       " '찬성: 도치가 그러던데 그 쉐끼가 일곱살에 학교 들어가서그렇대!승현  그래? 니가 이윤호 형이라고.. (슥 쳐다보고 고개 까딱하는)',\n",
       " '민호: (다급하게) 윤호 찾는거면 빨리 나가봐 멀리 못갔어 방금전에 나갔어!',\n",
       " '찬성: 야 너 우리랑 좀 가야겠다! (민호 잡고 가는)',\n",
       " '문희: 준하야 밥 다 먹고 나랑 민용이네 좀 다녀오자.',\n",
       " '준하: (전기밥솥 열고 밥 솥째 들어 양푼에 들이부으면서) 민용이네는 왜요?',\n",
       " '문희: 어제 김치 준다고선 깜빡했어. 밑반찬도 다 떨어졌을텐데. 그리구 쓰던 전자렌지도 가져간다 그러더니 그냥 갔잖아.',\n",
       " '준하: 네. 순재가 들어오고 박스(몸 안보이게) 탁자에 놓는 간호사 있다.',\n",
       " '순재: 나 없는 동안 뭐 별일 없었지?',\n",
       " '간호사: 예.',\n",
       " '순재: (방으로 들어가는) 순재 들어와 별 생각없이 책상위에 청구서 보며 가운을 걸친다. 가운이 난초와 꽃이 그려진 분홍색 가운이다.',\n",
       " '순재: (청구서 들고 나가는) 순재 청구서 들고 나오는데 간호사 박스 치우고 있다.',\n",
       " '순재: 어이 이거 약재값이 이거 맞는거야? 정확한거야?',\n",
       " '간호사: 예..맞는데요. (박스 치우자 순재와 똑같은 가운 입고있는데 짧고 파란색이다)',\n",
       " '순재: 그래? (하다 보며) 근데 근무중에 왜 이런 사복을 입고 있어?',\n",
       " '간호사: 네? 박원장님이 가운 바꾸셔서 오늘 전부..']"
      ]
     },
     "execution_count": 297,
     "metadata": {},
     "output_type": "execute_result"
    }
   ],
   "source": [
    "script_list[100: 150]"
   ]
  },
  {
   "cell_type": "code",
   "execution_count": null,
   "metadata": {
    "collapsed": true
   },
   "outputs": [],
   "source": []
  }
 ],
 "metadata": {
  "kernelspec": {
   "display_name": "Python 3",
   "language": "python",
   "name": "python3"
  },
  "language_info": {
   "codemirror_mode": {
    "name": "ipython",
    "version": 3
   },
   "file_extension": ".py",
   "mimetype": "text/x-python",
   "name": "python",
   "nbconvert_exporter": "python",
   "pygments_lexer": "ipython3",
   "version": "3.6.1"
  }
 },
 "nbformat": 4,
 "nbformat_minor": 2
}
